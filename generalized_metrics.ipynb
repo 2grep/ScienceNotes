{
  "nbformat": 4,
  "nbformat_minor": 0,
  "metadata": {
    "colab": {
      "provenance": [],
      "collapsed_sections": [],
      "include_colab_link": true
    },
    "kernelspec": {
      "name": "python3",
      "display_name": "Python 3"
    },
    "language_info": {
      "name": "python"
    }
  },
  "cells": [
    {
      "cell_type": "markdown",
      "metadata": {
        "id": "view-in-github",
        "colab_type": "text"
      },
      "source": [
        "<a href=\"https://colab.research.google.com/github/2grep/ScienceNotes/blob/main/generalized_metrics.ipynb\" target=\"_parent\"><img src=\"https://colab.research.google.com/assets/colab-badge.svg\" alt=\"Open In Colab\"/></a>"
      ]
    },
    {
      "cell_type": "code",
      "source": [
        "import numpy as np"
      ],
      "metadata": {
        "id": "nmKYAJmGt6mJ"
      },
      "execution_count": null,
      "outputs": []
    },
    {
      "cell_type": "code",
      "source": [],
      "metadata": {
        "id": "A76YRRcCHtVn"
      },
      "execution_count": null,
      "outputs": []
    },
    {
      "cell_type": "code",
      "source": [],
      "metadata": {
        "id": "yX8BDYseHtlu"
      },
      "execution_count": null,
      "outputs": []
    },
    {
      "cell_type": "code",
      "execution_count": null,
      "metadata": {
        "id": "HDimqwwKtp3N"
      },
      "outputs": [],
      "source": [
        "def generalized_accuracy(conf_matrix, weights):\n",
        "    '''\n",
        "    Generalized accuracy takes in a confusion matrix and returns a measure of the overall predictive value of a given classifier.\n",
        "    '''\n",
        "    score = 0\n",
        "    num_elements = sum([sum(r) for r in conf_matrix])\n",
        "    if num_elements == 0:\n",
        "      raise(\"No elements\")\n",
        "      \n",
        "    for i, row in enumerate(conf_matrix):\n",
        "        for j, x in enumerate(row):\n",
        "            distance = np.abs(i - j)\n",
        "            score += x * weights[distance]\n",
        "\n",
        "    return score / num_elements\n",
        "\n",
        "def generalized_recall(conf_matrix, weights, label_num):\n",
        "    '''\n",
        "    Generalized recall is computed for a specific label. For a given label, it computes a measure of all the label's actual instances which were corretly labelled.\n",
        "    '''\n",
        "    col = [row[label_num] for row in conf_matrix]\n",
        "\n",
        "    if sum(col) == 0:\n",
        "        raise(\"No elements with that ground truth label\")\n",
        "\n",
        "    score = 0\n",
        "    show_work = \"(\"\n",
        "    for i, x in enumerate(col):\n",
        "        distance = np.abs(i - label_num)\n",
        "        score += x * weights[distance]\n",
        "\n",
        "        # to print out the work\n",
        "        show_work += (\"{} * {:.2f}\").format(x, weights[distance])\n",
        "        if i != len(col) - 1:\n",
        "            show_work += (\" + \")\n",
        "        else:\n",
        "            show_work += (\") / ({}) = \").format(sum(col))\n",
        "        # to print out the work\n",
        "\n",
        "    gen_recall = score / sum(col)\n",
        "    print(show_work, gen_recall)\n",
        "    return gen_recall\n",
        "\n",
        "def generalized_precision(conf_matrix, weights, label_num):\n",
        "    '''\n",
        "    Generalized precision is computed for a specific label. For a given label, it computes a measure of all the label's predicted instances which were correctly labelled.\n",
        "    '''\n",
        "    row = conf_matrix[label_num]\n",
        "\n",
        "    if sum(row) == 0:\n",
        "        raise(\"No elements with that predicted label\")\n",
        "\n",
        "    score = 0\n",
        "    show_work = \"(\"\n",
        "    for i, x in enumerate(row):\n",
        "        distance = np.abs(i - label_num)\n",
        "        score += x * weights[distance]\n",
        "\n",
        "        # to print out the work\n",
        "        show_work += (\"{} * {:.2f}\").format(x, weights[distance])\n",
        "        if i != len(row) - 1:\n",
        "            show_work += (\" + \")\n",
        "        else:\n",
        "            show_work += (\") / ({}) = \").format(sum(row))\n",
        "        # to print out the work\n",
        "\n",
        "    gen_prec = score / sum(row)\n",
        "    print(show_work, gen_prec)\n",
        "    return gen_prec"
      ]
    },
    {
      "cell_type": "code",
      "source": [
        "num_classes = 4\n",
        "weights = np.linspace(1, .3, ) \n",
        "# weights must be monotonically decreasing, but otherwise can be however you want. This can actually be a num_classes by num_classes matrix.\n",
        "\n",
        "conf_matrix =  [[150, 30, 10, 7], \n",
        "                [17, 200, 20, 8], \n",
        "                [6, 35, 160, 21], \n",
        "                [4, 17, 32, 214]]\n",
        "# Confusion matrix follows the convention of https://i.stack.imgur.com/a3hnS.png. The element in the ith row and jth column is the the number of elements with ground truth j which were classified as i by the model.\n",
        "# Confusion matrix must have num_classes rows and columns. All elements should be non-negative integers.\n",
        "\n",
        "for i in range(num_classes):\n",
        "  print(\"Gen. Prec for label\", i)\n",
        "  generalized_precision(conf_matrix, weights, i)\n",
        "  print(\"Gen. Recall for label\", i)\n",
        "  generalized_recall(conf_matrix, weights, i)\n",
        "print(\"Overall Gen. Accuracy:\", generalized_accuracy(conf_matrix, weights))"
      ],
      "metadata": {
        "colab": {
          "base_uri": "https://localhost:8080/"
        },
        "id": "z8tsID89t2uz",
        "outputId": "cf12f752-8f81-4bbc-c9a1-daaa4efead59"
      },
      "execution_count": null,
      "outputs": [
        {
          "output_type": "stream",
          "name": "stdout",
          "text": [
            "Gen. Prec for label 0\n",
            "(150 * 1.00 + 30 * 0.67 + 10 * 0.33 + 7 * 0.00) / (197) =  0.8798646362098139\n",
            "Gen. Recall for label 0\n",
            "(150 * 1.00 + 17 * 0.67 + 6 * 0.33 + 4 * 0.00) / (177) =  0.9227871939736347\n",
            "Gen. Prec for label 1\n",
            "(17 * 0.67 + 200 * 1.00 + 20 * 0.67 + 8 * 0.33) / (245) =  0.927891156462585\n",
            "Gen. Recall for label 1\n",
            "(30 * 0.67 + 200 * 1.00 + 35 * 0.67 + 17 * 0.33) / (282) =  0.8829787234042553\n",
            "Gen. Prec for label 2\n",
            "(6 * 0.33 + 35 * 0.67 + 160 * 1.00 + 21 * 0.67) / (222) =  0.897897897897898\n",
            "Gen. Recall for label 2\n",
            "(10 * 0.33 + 20 * 0.67 + 160 * 1.00 + 32 * 0.67) / (222) =  0.891891891891892\n",
            "Gen. Prec for label 3\n",
            "(4 * 0.00 + 17 * 0.33 + 32 * 0.67 + 214 * 1.00) / (267) =  0.9026217228464419\n",
            "Gen. Recall for label 3\n",
            "(7 * 0.00 + 8 * 0.33 + 21 * 0.67 + 214 * 1.00) / (250) =  0.9226666666666666\n",
            "Overall Gen. Accuracy: 0.9033297529538131\n"
          ]
        }
      ]
    }
  ]
}